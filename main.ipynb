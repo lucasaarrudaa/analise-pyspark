{
 "cells": [
  {
   "cell_type": "code",
   "execution_count": 1,
   "id": "d1f23504",
   "metadata": {},
   "outputs": [],
   "source": [
    "from pyspark.sql import SparkSession\n",
    "from pyspark.sql.functions import split, avg, max, length, mean, regexp_replace"
   ]
  },
  {
   "cell_type": "code",
   "execution_count": 2,
   "id": "cded6491",
   "metadata": {},
   "outputs": [],
   "source": [
    "spark = SparkSession.builder.appName(\"MyApp\").getOrCreate()"
   ]
  },
  {
   "cell_type": "code",
   "execution_count": 3,
   "id": "3756eaf7",
   "metadata": {},
   "outputs": [],
   "source": [
    "df_titles = spark.read.csv(r'C:\\Users\\lucas\\Downloads\\EDC-modulo-2\\trabalho pratico\\dados\\title_basics.tsv', header=True,\n",
    "inferSchema=True, sep='\\t')"
   ]
  },
  {
   "cell_type": "code",
   "execution_count": 4,
   "id": "aa36ce58",
   "metadata": {},
   "outputs": [],
   "source": [
    "df_ratings = spark.read.csv(r'C:\\Users\\lucas\\Downloads\\EDC-modulo-2\\trabalho pratico\\dados\\title_ratings.tsv', header=True,\n",
    "inferSchema=True, sep='\\t')"
   ]
  },
  {
   "cell_type": "code",
   "execution_count": 32,
   "id": "7928940e",
   "metadata": {},
   "outputs": [],
   "source": [
    "# df_ratings.show()\n",
    "# df_titles.show()"
   ]
  },
  {
   "cell_type": "code",
   "execution_count": 6,
   "id": "576d7b36",
   "metadata": {},
   "outputs": [],
   "source": [
    "df_join = df_ratings.join(df_titles, ['tconst'], 'outer')"
   ]
  },
  {
   "cell_type": "code",
   "execution_count": 7,
   "id": "8332c961",
   "metadata": {},
   "outputs": [],
   "source": [
    "df_join.createTempView(\"filmes\")"
   ]
  },
  {
   "cell_type": "code",
   "execution_count": 8,
   "id": "aebfe12b",
   "metadata": {},
   "outputs": [],
   "source": [
    "#Quantos filmes (incluindo os da televisão) foram lançados no ano de 2015?\n",
    "ano_2015 = spark.sql('SELECT COUNT(primaryTitle) AS count_2015 FROM filmes WHERE startYear = 2015')"
   ]
  },
  {
   "cell_type": "code",
   "execution_count": 9,
   "id": "7ecfcda2",
   "metadata": {},
   "outputs": [
    {
     "name": "stdout",
     "output_type": "stream",
     "text": [
      "+----------+\n",
      "|count_2015|\n",
      "+----------+\n",
      "|    358054|\n",
      "+----------+\n",
      "\n"
     ]
    }
   ],
   "source": [
    "ano_2015.show()"
   ]
  },
  {
   "cell_type": "code",
   "execution_count": 10,
   "id": "3f8b1e92",
   "metadata": {},
   "outputs": [],
   "source": [
    "genero_frequente = df_join.groupBy(\"genres\").count().orderBy((\"count\")).first()[0]"
   ]
  },
  {
   "cell_type": "code",
   "execution_count": 12,
   "id": "03aa2463",
   "metadata": {},
   "outputs": [],
   "source": [
    "df = df_join.withColumn('filme', split(df_join['genres'], ',').getItem(0))"
   ]
  },
  {
   "cell_type": "code",
   "execution_count": 13,
   "id": "a0d48b58",
   "metadata": {},
   "outputs": [],
   "source": [
    "df = df.withColumn(\"genres\", regexp_replace(\"genres\", \"Short\", \"\"))"
   ]
  },
  {
   "cell_type": "code",
   "execution_count": 14,
   "id": "a201729a",
   "metadata": {},
   "outputs": [],
   "source": [
    "df = df.withColumn(\"filme\", regexp_replace(\"filme\", \"Short\", \"\"))"
   ]
  },
  {
   "cell_type": "code",
   "execution_count": 15,
   "id": "034ba809",
   "metadata": {},
   "outputs": [],
   "source": [
    "df = df.withColumn(\"genres\", regexp_replace(\"genres\", \",\", \"\"))"
   ]
  },
  {
   "cell_type": "code",
   "execution_count": 16,
   "id": "95809cf8",
   "metadata": {},
   "outputs": [],
   "source": [
    "from pyspark.sql.functions import desc, col, count, first"
   ]
  },
  {
   "cell_type": "code",
   "execution_count": 17,
   "id": "a570c0ce",
   "metadata": {},
   "outputs": [],
   "source": [
    "#Qual o gênero de títulos mais frequente?\n",
    "genero_mais_frequente = df.groupBy(\"genres\")\\\n",
    "                         .agg(count(\"*\").alias(\"frequencia\"))\\\n",
    "                         .orderBy(desc(\"frequencia\"))\\\n",
    "                         .select(first(\"genres\"))\\\n",
    "                         .head()[0]"
   ]
  },
  {
   "cell_type": "code",
   "execution_count": 18,
   "id": "c04937b8",
   "metadata": {},
   "outputs": [
    {
     "data": {
      "text/plain": [
       "'Drama'"
      ]
     },
     "execution_count": 18,
     "metadata": {},
     "output_type": "execute_result"
    }
   ],
   "source": [
    "genero_mais_frequente"
   ]
  },
  {
   "cell_type": "code",
   "execution_count": 19,
   "id": "d7db21f0",
   "metadata": {},
   "outputs": [],
   "source": [
    "df_filtered = df.filter((df.startYear == 2020))"
   ]
  },
  {
   "cell_type": "code",
   "execution_count": 20,
   "id": "bb00114c",
   "metadata": {},
   "outputs": [],
   "source": [
    "df_grouped = df_filtered.groupBy('primaryTitle', 'titleType').agg(avg('averageRating').alias('avg_rating'))"
   ]
  },
  {
   "cell_type": "code",
   "execution_count": 21,
   "id": "e1cd3510",
   "metadata": {},
   "outputs": [],
   "source": [
    "df_result = df_grouped.select('primaryTitle', 'titleType', 'avg_rating').orderBy(desc('avg_rating')).limit(1)"
   ]
  },
  {
   "cell_type": "code",
   "execution_count": 22,
   "id": "b2953bde",
   "metadata": {},
   "outputs": [
    {
     "data": {
      "text/plain": [
       "3931670"
      ]
     },
     "execution_count": 22,
     "metadata": {},
     "output_type": "execute_result"
    }
   ],
   "source": [
    "#Quantos filmes têm o título atual (“primary”) diferente do título original?\n",
    "df.select('primaryTitle').distinct().count()"
   ]
  },
  {
   "cell_type": "code",
   "execution_count": 23,
   "id": "66ab09a1",
   "metadata": {},
   "outputs": [],
   "source": [
    "#Quantos filmes têm o título atual (“primary”) diferente do título original?\n",
    "different_title_count = df_titles.filter(df_titles['primaryTitle'] != df_titles['originalTitle']).count()"
   ]
  },
  {
   "cell_type": "code",
   "execution_count": 24,
   "id": "b13e6c71",
   "metadata": {},
   "outputs": [
    {
     "data": {
      "text/plain": [
       "125056"
      ]
     },
     "execution_count": 24,
     "metadata": {},
     "output_type": "execute_result"
    }
   ],
   "source": [
    "different_title_count"
   ]
  },
  {
   "cell_type": "code",
   "execution_count": 25,
   "id": "13fdf389",
   "metadata": {},
   "outputs": [],
   "source": [
    "# Qual o filme que tem o nome mais longo?\n",
    "df_longest_title = df_titles.orderBy(length(\"primaryTitle\").desc())\n",
    "longest_title = df_longest_title.first()[\"tconst\"]"
   ]
  },
  {
   "cell_type": "code",
   "execution_count": 26,
   "id": "9b056a16",
   "metadata": {},
   "outputs": [
    {
     "data": {
      "text/plain": [
       "'tt12985206'"
      ]
     },
     "execution_count": 26,
     "metadata": {},
     "output_type": "execute_result"
    }
   ],
   "source": [
    "longest_title"
   ]
  },
  {
   "cell_type": "code",
   "execution_count": 27,
   "id": "553a7d3e",
   "metadata": {},
   "outputs": [],
   "source": [
    "#Qual filme tem a maior quantidade de votos?\n",
    "mais_votado = df.orderBy('numVotes', ascending=False).first()"
   ]
  },
  {
   "cell_type": "code",
   "execution_count": 28,
   "id": "c8270a5d",
   "metadata": {},
   "outputs": [
    {
     "name": "stdout",
     "output_type": "stream",
     "text": [
      "tt0111161\n"
     ]
    }
   ],
   "source": [
    "#Qual filme tem a maior quantidade de votos? \n",
    "print(mais_votado['tconst'])"
   ]
  },
  {
   "cell_type": "code",
   "execution_count": 29,
   "id": "92779cc6",
   "metadata": {},
   "outputs": [
    {
     "name": "stdout",
     "output_type": "stream",
     "text": [
      "+-------+-------------+\n",
      "|summary|averageRating|\n",
      "+-------+-------------+\n",
      "|    min|          1.0|\n",
      "+-------+-------------+\n",
      "\n"
     ]
    }
   ],
   "source": [
    "#Qual é a menor nota média de um filme?\n",
    "df.select('averageRating').describe().filter('summary == \"min\"').show()"
   ]
  },
  {
   "cell_type": "code",
   "execution_count": 30,
   "id": "a074199a",
   "metadata": {},
   "outputs": [
    {
     "name": "stdout",
     "output_type": "stream",
     "text": [
      "+-------+-----------------+\n",
      "|summary|   runtimeMinutes|\n",
      "+-------+-----------------+\n",
      "|  count|           250127|\n",
      "|   mean|92.79938555059914|\n",
      "| stddev|57.18982244754776|\n",
      "|    min|                1|\n",
      "|    max|               \\N|\n",
      "+-------+-----------------+\n",
      "\n"
     ]
    }
   ],
   "source": [
    "#Qual a duração média dos filmes com conteúdo adulto?\n",
    "# Filtrando os filmes com conteúdo adulto\n",
    "df_adult = df.filter(col(\"isAdult\") == 1)\n",
    "\n",
    "# Calculando a duração média desses filmes\n",
    "df_adult.select(\"runtimeMinutes\").describe().show()"
   ]
  }
 ],
 "metadata": {
  "kernelspec": {
   "display_name": "Python 3 (ipykernel)",
   "language": "python",
   "name": "python3"
  },
  "language_info": {
   "codemirror_mode": {
    "name": "ipython",
    "version": 3
   },
   "file_extension": ".py",
   "mimetype": "text/x-python",
   "name": "python",
   "nbconvert_exporter": "python",
   "pygments_lexer": "ipython3",
   "version": "3.9.13"
  }
 },
 "nbformat": 4,
 "nbformat_minor": 5
}
